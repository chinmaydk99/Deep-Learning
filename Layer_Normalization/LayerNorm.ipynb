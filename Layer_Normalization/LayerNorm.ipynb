{
  "nbformat": 4,
  "nbformat_minor": 0,
  "metadata": {
    "colab": {
      "provenance": []
    },
    "kernelspec": {
      "name": "python3",
      "display_name": "Python 3"
    },
    "language_info": {
      "name": "python"
    }
  },
  "cells": [
    {
      "cell_type": "markdown",
      "source": [
        "This involves normalizing the inputs across the feature dimension instead of the batch dimension. This ensures that training remains stable"
      ],
      "metadata": {
        "id": "WOZoTABzNx9W"
      }
    },
    {
      "cell_type": "code",
      "execution_count": 23,
      "metadata": {
        "id": "tsJrmfRvNbmO"
      },
      "outputs": [],
      "source": [
        "import torch\n",
        "import torch.nn as nn\n",
        "import numpy as np"
      ]
    },
    {
      "cell_type": "markdown",
      "source": [
        "## Initializing Inputs"
      ],
      "metadata": {
        "id": "Uy8mLZzEOqmI"
      }
    },
    {
      "cell_type": "code",
      "source": [
        "inputs = torch.Tensor([[[0.2, 0.1, 0.3], [0.5, 0.1, 0.1]]])\n",
        "batch, seq_len, emb_dim = inputs.size()\n",
        "inputs = inputs.view(seq_len, batch, emb_dim)\n",
        "inputs.size()"
      ],
      "metadata": {
        "colab": {
          "base_uri": "https://localhost:8080/"
        },
        "id": "0-Y5NJCMOAHK",
        "outputId": "4a92ba3a-bc61-4140-851f-0a98ebaffe08"
      },
      "execution_count": 5,
      "outputs": [
        {
          "output_type": "execute_result",
          "data": {
            "text/plain": [
              "torch.Size([2, 1, 3])"
            ]
          },
          "metadata": {},
          "execution_count": 5
        }
      ]
    },
    {
      "cell_type": "markdown",
      "source": [
        "## Creating learnable parameters"
      ],
      "metadata": {
        "id": "AjOE5WFnOsx7"
      }
    },
    {
      "cell_type": "code",
      "source": [
        "parameter_shape = inputs.size()[-2:]\n",
        "gamma = nn.Parameter(torch.ones(parameter_shape))\n",
        "beta = nn.Parameter(torch.zeros(parameter_shape))\n",
        "parameter_shape"
      ],
      "metadata": {
        "colab": {
          "base_uri": "https://localhost:8080/"
        },
        "id": "DJ9vQKMcOWSO",
        "outputId": "af35dc77-46cf-47a6-fb1c-493a92c2fe7f"
      },
      "execution_count": 10,
      "outputs": [
        {
          "output_type": "execute_result",
          "data": {
            "text/plain": [
              "torch.Size([1, 3])"
            ]
          },
          "metadata": {},
          "execution_count": 10
        }
      ]
    },
    {
      "cell_type": "markdown",
      "source": [
        "## Computing mean and standard Deviation"
      ],
      "metadata": {
        "id": "zjJghE2GQR7e"
      }
    },
    {
      "cell_type": "code",
      "source": [
        "dims = [-(i+1) for i in range(len(parameter_shape))]\n",
        "# We want mean over -2 and -1 the last two dimensions\n",
        "means = inputs.mean(dim = dims, keepdim=True)\n",
        "var = ((inputs-means)**2).mean(dim = dims, keepdim= True)\n",
        "epsilon = 1e-5\n",
        "std = (var+epsilon).sqrt()"
      ],
      "metadata": {
        "id": "odAKprdjO4c6"
      },
      "execution_count": 16,
      "outputs": []
    },
    {
      "cell_type": "code",
      "source": [
        "means"
      ],
      "metadata": {
        "colab": {
          "base_uri": "https://localhost:8080/"
        },
        "id": "OYVlv9L_QjA6",
        "outputId": "74af4ae3-4b1f-487a-8ad3-3e942b9cac51"
      },
      "execution_count": 18,
      "outputs": [
        {
          "output_type": "execute_result",
          "data": {
            "text/plain": [
              "tensor([[[0.2000]],\n",
              "\n",
              "        [[0.2333]]])"
            ]
          },
          "metadata": {},
          "execution_count": 18
        }
      ]
    },
    {
      "cell_type": "code",
      "source": [
        "std"
      ],
      "metadata": {
        "colab": {
          "base_uri": "https://localhost:8080/"
        },
        "id": "sQVXil30Q74c",
        "outputId": "548a3120-756c-4ee9-c615-c00f510c132f"
      },
      "execution_count": 19,
      "outputs": [
        {
          "output_type": "execute_result",
          "data": {
            "text/plain": [
              "tensor([[[0.0817]],\n",
              "\n",
              "        [[0.1886]]])"
            ]
          },
          "metadata": {},
          "execution_count": 19
        }
      ]
    },
    {
      "cell_type": "markdown",
      "source": [
        "## Normalizing the input"
      ],
      "metadata": {
        "id": "2yq_bJTVRAWk"
      }
    },
    {
      "cell_type": "code",
      "source": [
        "y = (inputs - means)/std"
      ],
      "metadata": {
        "id": "enRzUiF6Q9nK"
      },
      "execution_count": 20,
      "outputs": []
    },
    {
      "cell_type": "code",
      "source": [
        "out = gamma*y + beta"
      ],
      "metadata": {
        "id": "ImvV0oArRFIp"
      },
      "execution_count": 22,
      "outputs": []
    },
    {
      "cell_type": "markdown",
      "source": [
        "## Putting this in a class"
      ],
      "metadata": {
        "id": "IaMXDFA6Rbuz"
      }
    },
    {
      "cell_type": "code",
      "source": [
        "class LayerNormalization:\n",
        "    def __init__(self, parameter_shape, eps = 1e-5):\n",
        "        self.parameter_shape = parameter_shape\n",
        "        self.eps = eps\n",
        "        self.gamma = torch.ones(self.parameter_shape)\n",
        "        self.beta = torch.zeros(self.parameter_shape)\n",
        "\n",
        "    def forward(self, input):\n",
        "        dims = [-(i+1) for i in range(len(self.parameter_shape))]\n",
        "        mean = input.mean(dim = dims, keepdim = True)\n",
        "        print(f\"Mean \\n ({mean.size()}): \\n {mean}\")\n",
        "        var = ((input-mean)**2).mean(dim = dims, keepdim = True)\n",
        "        std = (var+self.eps).sqrt()\n",
        "        print(f\"Standard Deviation \\n ({std.size()}): \\n {std}\")\n",
        "        y = (input-mean)/std\n",
        "        print(f\"y \\n ({y.size()}) = \\n {y}\")\n",
        "        out = self.gamma*y + self.beta\n",
        "        print(f\"out \\n ({out.size()}) = \\n {out}\")\n",
        "        return out"
      ],
      "metadata": {
        "id": "JF_Va7YsRLpk"
      },
      "execution_count": 39,
      "outputs": []
    },
    {
      "cell_type": "code",
      "source": [
        "batch_size = 3\n",
        "sentence_length = 5\n",
        "embedding_dim = 8\n",
        "\n",
        "inputs = torch.randn(sentence_length, batch_size, embedding_dim)\n",
        "print(f\"input \\n ({inputs.size()}) = \\n {inputs}\")"
      ],
      "metadata": {
        "colab": {
          "base_uri": "https://localhost:8080/"
        },
        "id": "SSePR6ASSRRn",
        "outputId": "1573c909-49ad-492f-ed15-3a4a562109e6"
      },
      "execution_count": 40,
      "outputs": [
        {
          "output_type": "stream",
          "name": "stdout",
          "text": [
            "input \n",
            " (torch.Size([5, 3, 8])) = \n",
            " tensor([[[-5.5680e-01, -1.1699e+00,  1.1403e+00,  4.0501e-01, -1.3402e+00,\n",
            "           1.8886e-01, -1.8179e-01,  2.3194e+00],\n",
            "         [ 1.2173e-01, -1.2331e+00,  3.5195e-01, -1.2103e+00, -1.2475e+00,\n",
            "          -4.6125e-01, -1.4173e-01,  6.9999e-01],\n",
            "         [-5.4593e-01, -9.4886e-01,  4.0205e-04,  1.0998e+00, -4.0626e-01,\n",
            "          -2.1154e+00,  7.7490e-01, -1.4720e+00]],\n",
            "\n",
            "        [[ 3.7019e-01, -5.8448e-01, -1.4146e+00, -6.5040e-01,  1.6822e+00,\n",
            "          -9.6505e-01, -9.2295e-01,  2.5152e-01],\n",
            "         [-7.5900e-01, -1.2131e+00,  1.3730e+00, -1.7024e-01, -2.7530e-01,\n",
            "          -5.8667e-02,  2.3098e+00,  6.9863e-01],\n",
            "         [ 1.5008e-02,  1.6094e+00,  2.9958e-01, -4.1022e-01, -4.3226e-01,\n",
            "           1.1714e-01,  7.9998e-02,  2.4723e+00]],\n",
            "\n",
            "        [[-5.7140e-01,  1.6102e+00, -4.2432e-01, -2.3240e+00, -1.0647e+00,\n",
            "          -1.1813e+00, -1.6541e+00, -1.0832e+00],\n",
            "         [ 2.2693e-01,  1.0672e+00,  1.3820e+00, -7.8603e-01,  5.0952e-01,\n",
            "           4.3868e-01,  2.9191e-01,  9.4625e-01],\n",
            "         [-1.5411e+00,  5.9795e-01,  1.1687e+00, -1.3269e-01,  1.0558e+00,\n",
            "          -9.6069e-01, -2.3101e-01, -2.0457e+00]],\n",
            "\n",
            "        [[ 1.5440e-01, -1.4313e+00,  1.1214e+00, -3.1204e-02,  1.2764e-01,\n",
            "           9.6430e-01,  7.0121e-01, -5.9481e-02],\n",
            "         [-4.0187e-01,  7.2292e-01, -9.0218e-01,  1.7823e+00, -8.0735e-01,\n",
            "           1.5802e+00,  1.2832e+00,  2.2520e+00],\n",
            "         [-1.4015e+00, -1.2706e+00,  1.0945e+00,  1.0688e+00,  9.7231e-01,\n",
            "           1.8400e+00,  4.6385e-01, -1.1240e+00]],\n",
            "\n",
            "        [[-2.6227e-01,  2.9392e-02,  1.1473e+00, -5.9736e-03, -1.5246e+00,\n",
            "          -2.9916e-01, -1.0719e+00, -3.0840e-01],\n",
            "         [-1.3880e-01,  6.9615e-01, -5.6027e-02, -8.7790e-01,  4.4781e-01,\n",
            "          -1.2207e+00,  1.0585e+00, -2.0769e-01],\n",
            "         [-1.5603e-01, -1.0574e-01,  1.3653e+00, -6.3968e-01, -1.8007e-01,\n",
            "           8.6197e-01,  1.5402e+00,  1.0412e+00]]])\n"
          ]
        }
      ]
    },
    {
      "cell_type": "code",
      "source": [
        "inputs.size()[-1:]"
      ],
      "metadata": {
        "colab": {
          "base_uri": "https://localhost:8080/"
        },
        "id": "ZJVezHdLSqaV",
        "outputId": "aa5889e7-0df0-4c53-e3da-f547e193f48a"
      },
      "execution_count": 41,
      "outputs": [
        {
          "output_type": "execute_result",
          "data": {
            "text/plain": [
              "torch.Size([8])"
            ]
          },
          "metadata": {},
          "execution_count": 41
        }
      ]
    },
    {
      "cell_type": "code",
      "source": [
        "layer_norm = LayerNormalization(inputs.size()[-1:]) # Normalize only across embedding dimension\n",
        "out = layer_norm.forward(inputs)"
      ],
      "metadata": {
        "colab": {
          "base_uri": "https://localhost:8080/"
        },
        "id": "t6NTtK5cSZ9D",
        "outputId": "6c92ac93-ded3-430b-9b0e-4ef56c2d401c"
      },
      "execution_count": 42,
      "outputs": [
        {
          "output_type": "stream",
          "name": "stdout",
          "text": [
            "Mean \n",
            " (torch.Size([5, 3, 1])): \n",
            " tensor([[[ 0.1006],\n",
            "         [-0.3900],\n",
            "         [-0.4517]],\n",
            "\n",
            "        [[-0.2792],\n",
            "         [ 0.2381],\n",
            "         [ 0.4689]],\n",
            "\n",
            "        [[-0.8366],\n",
            "         [ 0.5096],\n",
            "         [-0.2611]],\n",
            "\n",
            "        [[ 0.1934],\n",
            "         [ 0.6887],\n",
            "         [ 0.2054]],\n",
            "\n",
            "        [[-0.2870],\n",
            "         [-0.0373],\n",
            "         [ 0.4659]]])\n",
            "Standard Deviation \n",
            " (torch.Size([5, 3, 1])): \n",
            " tensor([[[1.1351],\n",
            "         [0.7234],\n",
            "         [1.0114]],\n",
            "\n",
            "        [[0.9324],\n",
            "         [1.0846],\n",
            "         [0.9624]],\n",
            "\n",
            "        [[1.0805],\n",
            "         [0.6199],\n",
            "         [1.1094]],\n",
            "\n",
            "        [[0.7478],\n",
            "         [1.1591],\n",
            "         [1.1932]],\n",
            "\n",
            "        [[0.7404],\n",
            "         [0.7177],\n",
            "         [0.7749]]])\n",
            "y \n",
            " (torch.Size([5, 3, 8])) = \n",
            " tensor([[[-5.7919e-01, -1.1194e+00,  9.1597e-01,  2.6818e-01, -1.2694e+00,\n",
            "           7.7748e-02, -2.4879e-01,  1.9548e+00],\n",
            "         [ 7.0746e-01, -1.1654e+00,  1.0257e+00, -1.1339e+00, -1.1854e+00,\n",
            "          -9.8447e-02,  3.4324e-01,  1.5068e+00],\n",
            "         [-9.3195e-02, -4.9159e-01,  4.4699e-01,  1.5340e+00,  4.4913e-02,\n",
            "          -1.6450e+00,  1.2128e+00, -1.0089e+00]],\n",
            "\n",
            "        [[ 6.9644e-01, -3.2740e-01, -1.2177e+00, -3.9809e-01,  2.1035e+00,\n",
            "          -7.3554e-01, -6.9040e-01,  5.6917e-01],\n",
            "         [-9.1937e-01, -1.3381e+00,  1.0463e+00, -3.7653e-01, -4.7340e-01,\n",
            "          -2.7366e-01,  1.9101e+00,  4.2458e-01],\n",
            "         [-4.7162e-01,  1.1852e+00, -1.7592e-01, -9.1347e-01, -9.3637e-01,\n",
            "          -3.6549e-01, -4.0408e-01,  2.0818e+00]],\n",
            "\n",
            "        [[ 2.4544e-01,  2.2646e+00,  3.8157e-01, -1.3766e+00, -2.1107e-01,\n",
            "          -3.1904e-01, -7.5663e-01, -2.2825e-01],\n",
            "         [-4.5597e-01,  8.9963e-01,  1.4075e+00, -2.0901e+00, -7.2600e-05,\n",
            "          -1.1435e-01, -3.5114e-01,  7.0449e-01],\n",
            "         [-1.1538e+00,  7.7430e-01,  1.2888e+00,  1.1572e-01,  1.1870e+00,\n",
            "          -6.3060e-01,  2.7110e-02, -1.6086e+00]],\n",
            "\n",
            "        [[-5.2125e-02, -2.1727e+00,  1.2411e+00, -3.0033e-01, -8.7911e-02,\n",
            "           1.0310e+00,  6.7913e-01, -3.3815e-01],\n",
            "         [-9.4085e-01,  2.9554e-02, -1.3725e+00,  9.4356e-01, -1.2907e+00,\n",
            "           7.6920e-01,  5.1291e-01,  1.3488e+00],\n",
            "         [-1.3467e+00, -1.2370e+00,  7.4509e-01,  7.2357e-01,  6.4270e-01,\n",
            "           1.3698e+00,  2.1658e-01, -1.1141e+00]],\n",
            "\n",
            "        [[ 3.3332e-02,  4.2727e-01,  1.9372e+00,  3.7950e-01, -1.6717e+00,\n",
            "          -1.6488e-02, -1.0602e+00, -2.8973e-02],\n",
            "         [-1.4139e-01,  1.0220e+00, -2.6056e-02, -1.1712e+00,  6.7595e-01,\n",
            "          -1.6488e+00,  1.5269e+00, -2.3738e-01],\n",
            "         [-8.0255e-01, -7.3766e-01,  1.1606e+00, -1.4267e+00, -8.3358e-01,\n",
            "           5.1110e-01,  1.3863e+00,  7.4243e-01]]])\n",
            "out \n",
            " (torch.Size([5, 3, 8])) = \n",
            " tensor([[[-5.7919e-01, -1.1194e+00,  9.1597e-01,  2.6818e-01, -1.2694e+00,\n",
            "           7.7748e-02, -2.4879e-01,  1.9548e+00],\n",
            "         [ 7.0746e-01, -1.1654e+00,  1.0257e+00, -1.1339e+00, -1.1854e+00,\n",
            "          -9.8447e-02,  3.4324e-01,  1.5068e+00],\n",
            "         [-9.3195e-02, -4.9159e-01,  4.4699e-01,  1.5340e+00,  4.4913e-02,\n",
            "          -1.6450e+00,  1.2128e+00, -1.0089e+00]],\n",
            "\n",
            "        [[ 6.9644e-01, -3.2740e-01, -1.2177e+00, -3.9809e-01,  2.1035e+00,\n",
            "          -7.3554e-01, -6.9040e-01,  5.6917e-01],\n",
            "         [-9.1937e-01, -1.3381e+00,  1.0463e+00, -3.7653e-01, -4.7340e-01,\n",
            "          -2.7366e-01,  1.9101e+00,  4.2458e-01],\n",
            "         [-4.7162e-01,  1.1852e+00, -1.7592e-01, -9.1347e-01, -9.3637e-01,\n",
            "          -3.6549e-01, -4.0408e-01,  2.0818e+00]],\n",
            "\n",
            "        [[ 2.4544e-01,  2.2646e+00,  3.8157e-01, -1.3766e+00, -2.1107e-01,\n",
            "          -3.1904e-01, -7.5663e-01, -2.2825e-01],\n",
            "         [-4.5597e-01,  8.9963e-01,  1.4075e+00, -2.0901e+00, -7.2600e-05,\n",
            "          -1.1435e-01, -3.5114e-01,  7.0449e-01],\n",
            "         [-1.1538e+00,  7.7430e-01,  1.2888e+00,  1.1572e-01,  1.1870e+00,\n",
            "          -6.3060e-01,  2.7110e-02, -1.6086e+00]],\n",
            "\n",
            "        [[-5.2125e-02, -2.1727e+00,  1.2411e+00, -3.0033e-01, -8.7911e-02,\n",
            "           1.0310e+00,  6.7913e-01, -3.3815e-01],\n",
            "         [-9.4085e-01,  2.9554e-02, -1.3725e+00,  9.4356e-01, -1.2907e+00,\n",
            "           7.6920e-01,  5.1291e-01,  1.3488e+00],\n",
            "         [-1.3467e+00, -1.2370e+00,  7.4509e-01,  7.2357e-01,  6.4270e-01,\n",
            "           1.3698e+00,  2.1658e-01, -1.1141e+00]],\n",
            "\n",
            "        [[ 3.3332e-02,  4.2727e-01,  1.9372e+00,  3.7950e-01, -1.6717e+00,\n",
            "          -1.6488e-02, -1.0602e+00, -2.8973e-02],\n",
            "         [-1.4139e-01,  1.0220e+00, -2.6056e-02, -1.1712e+00,  6.7595e-01,\n",
            "          -1.6488e+00,  1.5269e+00, -2.3738e-01],\n",
            "         [-8.0255e-01, -7.3766e-01,  1.1606e+00, -1.4267e+00, -8.3358e-01,\n",
            "           5.1110e-01,  1.3863e+00,  7.4243e-01]]])\n"
          ]
        }
      ]
    },
    {
      "cell_type": "code",
      "source": [],
      "metadata": {
        "id": "gP_kaFD5TdsR"
      },
      "execution_count": null,
      "outputs": []
    }
  ]
}