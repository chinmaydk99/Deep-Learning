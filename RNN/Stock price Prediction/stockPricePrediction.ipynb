{
 "cells": [
  {
   "cell_type": "markdown",
   "metadata": {},
   "source": [
    "##### Importing Libraries"
   ]
  },
  {
   "cell_type": "code",
   "execution_count": 48,
   "metadata": {},
   "outputs": [],
   "source": [
    "import tensorflow as tf\n",
    "import numpy as np\n",
    "import pandas as pd \n",
    "import matplotlib.pyplot as plt\n",
    "import seaborn as sns"
   ]
  },
  {
   "cell_type": "markdown",
   "metadata": {},
   "source": [
    "##### Import the training set"
   ]
  },
  {
   "cell_type": "code",
   "execution_count": 49,
   "metadata": {},
   "outputs": [],
   "source": [
    "df_train = pd.read_csv('Google_Stock_Price_Train.csv')"
   ]
  },
  {
   "cell_type": "markdown",
   "metadata": {},
   "source": [
    "df.iloc[:,1:2] yields a dataframe whereas df.iloc[:,1] yields a series. When we use the .values function, the dataframe is converted to a 2d array(which is the desired input format for neural network) whereas the series yields a 1d array"
   ]
  },
  {
   "cell_type": "code",
   "execution_count": 50,
   "metadata": {},
   "outputs": [],
   "source": [
    "#training_set = df_train.iloc[:,1].values\n",
    "#training_set"
   ]
  },
  {
   "cell_type": "code",
   "execution_count": 51,
   "metadata": {},
   "outputs": [],
   "source": [
    "training_set = df_train.iloc[:,1:2].values"
   ]
  },
  {
   "cell_type": "code",
   "execution_count": 52,
   "metadata": {},
   "outputs": [
    {
     "data": {
      "text/plain": [
       "array([[325.25],\n",
       "       [331.27],\n",
       "       [329.83],\n",
       "       ...,\n",
       "       [793.7 ],\n",
       "       [783.33],\n",
       "       [782.75]])"
      ]
     },
     "execution_count": 52,
     "metadata": {},
     "output_type": "execute_result"
    }
   ],
   "source": [
    "training_set"
   ]
  },
  {
   "cell_type": "markdown",
   "metadata": {},
   "source": [
    "#### Feature Scaling"
   ]
  },
  {
   "cell_type": "markdown",
   "metadata": {},
   "source": [
    "Whenever we build an RNN, particularly ones with sigmoid activation function in the output layer, use normalisation for scaling"
   ]
  },
  {
   "cell_type": "code",
   "execution_count": 53,
   "metadata": {},
   "outputs": [],
   "source": [
    "from sklearn.preprocessing import MinMaxScaler\n",
    "scaler = MinMaxScaler(feature_range=(0,1),copy=True)"
   ]
  },
  {
   "cell_type": "code",
   "execution_count": 54,
   "metadata": {},
   "outputs": [],
   "source": [
    "scaled_training_set = scaler.fit_transform(training_set)"
   ]
  },
  {
   "cell_type": "markdown",
   "metadata": {},
   "source": [
    "#### Number of Time steps"
   ]
  },
  {
   "cell_type": "markdown",
   "metadata": {},
   "source": [
    "For a given time step 'N', the RNN will refer to the predictions of the past N instances"
   ]
  },
  {
   "cell_type": "markdown",
   "metadata": {},
   "source": [
    "X_train holds the previous 60 stock price values at every index"
   ]
  },
  {
   "cell_type": "markdown",
   "metadata": {},
   "source": [
    "y_train holds the current stock price"
   ]
  },
  {
   "cell_type": "code",
   "execution_count": 55,
   "metadata": {},
   "outputs": [],
   "source": [
    "X_train = []\n",
    "y_train = []\n",
    "\n",
    "for i in range(60,len(training_set)):\n",
    "    #Getting the 60 previous stock prices\n",
    "    X_train.append(scaled_training_set[i-60:i,0])\n",
    "    y_train.append(scaled_training_set[i,0])\n",
    "\n",
    "#Converting these lists to numpy arrays\n",
    "X_train,y_train = np.array(X_train),np.array(y_train)"
   ]
  },
  {
   "cell_type": "markdown",
   "metadata": {},
   "source": [
    "#### Reshaping the data"
   ]
  },
  {
   "cell_type": "markdown",
   "metadata": {},
   "source": [
    "Currently we have one indicator(prices over the last 60 days) to predict the stock prices. But by adding this new dimension, we will be able to add more indicators"
   ]
  },
  {
   "cell_type": "markdown",
   "metadata": {},
   "source": [
    "We give 3 dimensions to the reshape function. (number_of_data_points(rows),number_of_timesteps(columns),number_of_indicators)"
   ]
  },
  {
   "cell_type": "code",
   "execution_count": 56,
   "metadata": {},
   "outputs": [],
   "source": [
    "X_train = np.reshape(X_train,(X_train.shape[0],X_train.shape[1],1))"
   ]
  },
  {
   "cell_type": "markdown",
   "metadata": {},
   "source": [
    "## Building the RNN"
   ]
  },
  {
   "cell_type": "markdown",
   "metadata": {},
   "source": [
    "#### Importing the Keras libraries and packages"
   ]
  },
  {
   "cell_type": "code",
   "execution_count": 57,
   "metadata": {},
   "outputs": [],
   "source": [
    "from keras.models import Sequential\n",
    "from keras.layers import Dense\n",
    "from keras.layers import LSTM\n",
    "from keras.layers import Dropout"
   ]
  },
  {
   "cell_type": "markdown",
   "metadata": {},
   "source": [
    "### Initiliasing the RNN"
   ]
  },
  {
   "cell_type": "code",
   "execution_count": 58,
   "metadata": {},
   "outputs": [],
   "source": [
    "regressor = Sequential()"
   ]
  },
  {
   "cell_type": "markdown",
   "metadata": {},
   "source": [
    "##### Adding first LSTM layer and some Dropout regularization(to avoid overfitting)"
   ]
  },
  {
   "cell_type": "code",
   "execution_count": 59,
   "metadata": {},
   "outputs": [],
   "source": [
    "regressor.add(LSTM(units = 50, return_sequences=True,input_shape =(X_train.shape[1],1)))"
   ]
  },
  {
   "cell_type": "markdown",
   "metadata": {},
   "source": [
    "The LSTM function takes in 3 arguments:\n",
    "- units : number of units we need  in our LSTM layer. Increasing the number of units will result in high dimensionality which is desired in complex cases\n",
    "\n",
    "- return_sequences = True. By default this is set to false. We set this to true when we want to add more LSTM layers after the current one\n",
    "\n",
    "- input_shape: this needs the number of timesteps and the number of indicators as the inputs"
   ]
  },
  {
   "cell_type": "code",
   "execution_count": 60,
   "metadata": {},
   "outputs": [],
   "source": [
    "regressor.add(Dropout(rate=0.2))"
   ]
  },
  {
   "cell_type": "markdown",
   "metadata": {},
   "source": [
    "rate = what percent of neurons in LSTM must be ignored during training(forward and backward propogation)"
   ]
  },
  {
   "cell_type": "markdown",
   "metadata": {},
   "source": [
    "##### Adding second LSTM layers with dropout regularization"
   ]
  },
  {
   "cell_type": "markdown",
   "metadata": {},
   "source": [
    "Note - no need to mention the input_shape for subsequent layers"
   ]
  },
  {
   "cell_type": "code",
   "execution_count": 61,
   "metadata": {},
   "outputs": [],
   "source": [
    "regressor.add(LSTM(units = 50, return_sequences=True))\n",
    "regressor.add(Dropout(rate=0.2))"
   ]
  },
  {
   "cell_type": "markdown",
   "metadata": {},
   "source": [
    "##### Adding third LSTM layers with dropout regularization"
   ]
  },
  {
   "cell_type": "code",
   "execution_count": 62,
   "metadata": {},
   "outputs": [],
   "source": [
    "regressor.add(LSTM(units = 50, return_sequences=True))\n",
    "regressor.add(Dropout(rate=0.2))"
   ]
  },
  {
   "cell_type": "markdown",
   "metadata": {},
   "source": [
    "##### Adding fourth LSTM layers with dropout regularization"
   ]
  },
  {
   "cell_type": "code",
   "execution_count": 63,
   "metadata": {},
   "outputs": [],
   "source": [
    "regressor.add(LSTM(units = 50))\n",
    "regressor.add(Dropout(rate=0.2))"
   ]
  },
  {
   "cell_type": "markdown",
   "metadata": {},
   "source": [
    "### Adding the output layer"
   ]
  },
  {
   "cell_type": "code",
   "execution_count": 64,
   "metadata": {},
   "outputs": [],
   "source": [
    "regressor.add(Dense(units=1))"
   ]
  },
  {
   "cell_type": "markdown",
   "metadata": {},
   "source": [
    "### Compiling the RNN"
   ]
  },
  {
   "cell_type": "markdown",
   "metadata": {},
   "source": [
    "For RNN it is recommended to use the 'RMSProp' optimizer."
   ]
  },
  {
   "cell_type": "code",
   "execution_count": 65,
   "metadata": {},
   "outputs": [],
   "source": [
    "regressor.compile(optimizer='adam',loss='mean_squared_error')"
   ]
  },
  {
   "cell_type": "markdown",
   "metadata": {},
   "source": [
    "### Fitting the RNN to the training set"
   ]
  },
  {
   "cell_type": "code",
   "execution_count": 66,
   "metadata": {},
   "outputs": [
    {
     "name": "stdout",
     "output_type": "stream",
     "text": [
      "Epoch 1/100\n",
      "38/38 [==============================] - 16s 115ms/step - loss: 0.0358\n",
      "Epoch 2/100\n",
      "38/38 [==============================] - 5s 131ms/step - loss: 0.0061\n",
      "Epoch 3/100\n",
      "38/38 [==============================] - 5s 128ms/step - loss: 0.0058\n",
      "Epoch 4/100\n",
      "38/38 [==============================] - 4s 105ms/step - loss: 0.0050\n",
      "Epoch 5/100\n",
      "38/38 [==============================] - 4s 111ms/step - loss: 0.0045\n",
      "Epoch 6/100\n",
      "38/38 [==============================] - 4s 110ms/step - loss: 0.0053\n",
      "Epoch 7/100\n",
      "38/38 [==============================] - 4s 107ms/step - loss: 0.0045\n",
      "Epoch 8/100\n",
      "38/38 [==============================] - 4s 102ms/step - loss: 0.0043\n",
      "Epoch 9/100\n",
      "38/38 [==============================] - 5s 125ms/step - loss: 0.0048\n",
      "Epoch 10/100\n",
      "38/38 [==============================] - 4s 115ms/step - loss: 0.0040\n",
      "Epoch 11/100\n",
      "38/38 [==============================] - 4s 111ms/step - loss: 0.0039\n",
      "Epoch 12/100\n",
      "38/38 [==============================] - 4s 115ms/step - loss: 0.0038\n",
      "Epoch 13/100\n",
      "38/38 [==============================] - 4s 109ms/step - loss: 0.0036\n",
      "Epoch 14/100\n",
      "38/38 [==============================] - 4s 100ms/step - loss: 0.0035\n",
      "Epoch 15/100\n",
      "38/38 [==============================] - 4s 107ms/step - loss: 0.0039\n",
      "Epoch 16/100\n",
      "38/38 [==============================] - 4s 107ms/step - loss: 0.0038\n",
      "Epoch 17/100\n",
      "38/38 [==============================] - 4s 107ms/step - loss: 0.0038\n",
      "Epoch 18/100\n",
      "38/38 [==============================] - 4s 102ms/step - loss: 0.0039\n",
      "Epoch 19/100\n",
      "38/38 [==============================] - 4s 107ms/step - loss: 0.0035\n",
      "Epoch 20/100\n",
      "38/38 [==============================] - 4s 105ms/step - loss: 0.0038\n",
      "Epoch 21/100\n",
      "38/38 [==============================] - 4s 104ms/step - loss: 0.0037\n",
      "Epoch 22/100\n",
      "38/38 [==============================] - 4s 106ms/step - loss: 0.0031\n",
      "Epoch 23/100\n",
      "38/38 [==============================] - 4s 108ms/step - loss: 0.0037\n",
      "Epoch 24/100\n",
      "38/38 [==============================] - 4s 109ms/step - loss: 0.0032\n",
      "Epoch 25/100\n",
      "38/38 [==============================] - 4s 113ms/step - loss: 0.0031\n",
      "Epoch 26/100\n",
      "38/38 [==============================] - 5s 120ms/step - loss: 0.0032\n",
      "Epoch 27/100\n",
      "38/38 [==============================] - 4s 110ms/step - loss: 0.0031\n",
      "Epoch 28/100\n",
      "38/38 [==============================] - 4s 113ms/step - loss: 0.0029\n",
      "Epoch 29/100\n",
      "38/38 [==============================] - 4s 106ms/step - loss: 0.0031\n",
      "Epoch 30/100\n",
      "38/38 [==============================] - 4s 107ms/step - loss: 0.0033\n",
      "Epoch 31/100\n",
      "38/38 [==============================] - 4s 103ms/step - loss: 0.0028\n",
      "Epoch 32/100\n",
      "38/38 [==============================] - 4s 113ms/step - loss: 0.0028\n",
      "Epoch 33/100\n",
      "38/38 [==============================] - 4s 117ms/step - loss: 0.0039\n",
      "Epoch 34/100\n",
      "38/38 [==============================] - 4s 109ms/step - loss: 0.0029\n",
      "Epoch 35/100\n",
      "38/38 [==============================] - 5s 126ms/step - loss: 0.0027\n",
      "Epoch 36/100\n",
      "38/38 [==============================] - 5s 121ms/step - loss: 0.0027\n",
      "Epoch 37/100\n",
      "38/38 [==============================] - 5s 130ms/step - loss: 0.0025\n",
      "Epoch 38/100\n",
      "38/38 [==============================] - 5s 127ms/step - loss: 0.0026\n",
      "Epoch 39/100\n",
      "38/38 [==============================] - 5s 140ms/step - loss: 0.0029\n",
      "Epoch 40/100\n",
      "38/38 [==============================] - 5s 123ms/step - loss: 0.0029\n",
      "Epoch 41/100\n",
      "38/38 [==============================] - 5s 137ms/step - loss: 0.0026\n",
      "Epoch 42/100\n",
      "38/38 [==============================] - 5s 139ms/step - loss: 0.0025\n",
      "Epoch 43/100\n",
      "38/38 [==============================] - 5s 133ms/step - loss: 0.0026\n",
      "Epoch 44/100\n",
      "38/38 [==============================] - 6s 163ms/step - loss: 0.0024\n",
      "Epoch 45/100\n",
      "38/38 [==============================] - 6s 145ms/step - loss: 0.0024\n",
      "Epoch 46/100\n",
      "38/38 [==============================] - 5s 133ms/step - loss: 0.0026\n",
      "Epoch 47/100\n",
      "38/38 [==============================] - 5s 131ms/step - loss: 0.0027\n",
      "Epoch 48/100\n",
      "38/38 [==============================] - 5s 125ms/step - loss: 0.0023\n",
      "Epoch 49/100\n",
      "38/38 [==============================] - 4s 112ms/step - loss: 0.0025\n",
      "Epoch 50/100\n",
      "38/38 [==============================] - 4s 104ms/step - loss: 0.0026\n",
      "Epoch 51/100\n",
      "38/38 [==============================] - 5s 135ms/step - loss: 0.0023\n",
      "Epoch 52/100\n",
      "38/38 [==============================] - 5s 133ms/step - loss: 0.0024\n",
      "Epoch 53/100\n",
      "38/38 [==============================] - 4s 113ms/step - loss: 0.0023\n",
      "Epoch 54/100\n",
      "38/38 [==============================] - 4s 114ms/step - loss: 0.0025\n",
      "Epoch 55/100\n",
      "38/38 [==============================] - 4s 112ms/step - loss: 0.0021\n",
      "Epoch 56/100\n",
      "38/38 [==============================] - 4s 107ms/step - loss: 0.0020\n",
      "Epoch 57/100\n",
      "38/38 [==============================] - 4s 104ms/step - loss: 0.0022\n",
      "Epoch 58/100\n",
      "38/38 [==============================] - 4s 103ms/step - loss: 0.0021\n",
      "Epoch 59/100\n",
      "38/38 [==============================] - 4s 105ms/step - loss: 0.0022\n",
      "Epoch 60/100\n",
      "38/38 [==============================] - 4s 106ms/step - loss: 0.0022\n",
      "Epoch 61/100\n",
      "38/38 [==============================] - 4s 106ms/step - loss: 0.0021\n",
      "Epoch 62/100\n",
      "38/38 [==============================] - 4s 103ms/step - loss: 0.0022\n",
      "Epoch 63/100\n",
      "38/38 [==============================] - 4s 103ms/step - loss: 0.0020\n",
      "Epoch 64/100\n",
      "38/38 [==============================] - 4s 103ms/step - loss: 0.0020\n",
      "Epoch 65/100\n",
      "38/38 [==============================] - 4s 103ms/step - loss: 0.0021\n",
      "Epoch 66/100\n",
      "38/38 [==============================] - 4s 106ms/step - loss: 0.0020\n",
      "Epoch 67/100\n",
      "38/38 [==============================] - 4s 106ms/step - loss: 0.0020\n",
      "Epoch 68/100\n",
      "38/38 [==============================] - 4s 107ms/step - loss: 0.0018\n",
      "Epoch 69/100\n",
      "38/38 [==============================] - 4s 102ms/step - loss: 0.0020\n",
      "Epoch 70/100\n",
      "38/38 [==============================] - 4s 104ms/step - loss: 0.0016\n",
      "Epoch 71/100\n",
      "38/38 [==============================] - 4s 116ms/step - loss: 0.0019\n",
      "Epoch 72/100\n",
      "38/38 [==============================] - 4s 114ms/step - loss: 0.0018\n",
      "Epoch 73/100\n",
      "38/38 [==============================] - 4s 106ms/step - loss: 0.0018\n",
      "Epoch 74/100\n",
      "38/38 [==============================] - 4s 108ms/step - loss: 0.0018\n",
      "Epoch 75/100\n",
      "38/38 [==============================] - 4s 104ms/step - loss: 0.0019\n",
      "Epoch 76/100\n",
      "38/38 [==============================] - 4s 104ms/step - loss: 0.0017\n",
      "Epoch 77/100\n",
      "38/38 [==============================] - 4s 107ms/step - loss: 0.0019\n",
      "Epoch 78/100\n",
      "38/38 [==============================] - 4s 107ms/step - loss: 0.0017\n",
      "Epoch 79/100\n",
      "38/38 [==============================] - 4s 107ms/step - loss: 0.0016\n",
      "Epoch 80/100\n",
      "38/38 [==============================] - 4s 105ms/step - loss: 0.0015\n",
      "Epoch 81/100\n",
      "38/38 [==============================] - 4s 105ms/step - loss: 0.0016\n",
      "Epoch 82/100\n",
      "38/38 [==============================] - 4s 105ms/step - loss: 0.0017\n",
      "Epoch 83/100\n",
      "38/38 [==============================] - 4s 106ms/step - loss: 0.0017\n",
      "Epoch 84/100\n",
      "38/38 [==============================] - 4s 103ms/step - loss: 0.0018\n",
      "Epoch 85/100\n",
      "38/38 [==============================] - 4s 103ms/step - loss: 0.0015\n",
      "Epoch 86/100\n",
      "38/38 [==============================] - 4s 106ms/step - loss: 0.0016\n",
      "Epoch 87/100\n",
      "38/38 [==============================] - 4s 103ms/step - loss: 0.0014\n",
      "Epoch 88/100\n",
      "38/38 [==============================] - 4s 106ms/step - loss: 0.0016\n",
      "Epoch 89/100\n",
      "38/38 [==============================] - 4s 104ms/step - loss: 0.0017\n",
      "Epoch 90/100\n",
      "38/38 [==============================] - 4s 107ms/step - loss: 0.0017\n",
      "Epoch 91/100\n",
      "38/38 [==============================] - 4s 105ms/step - loss: 0.0015\n",
      "Epoch 92/100\n",
      "38/38 [==============================] - 4s 104ms/step - loss: 0.0015\n",
      "Epoch 93/100\n",
      "38/38 [==============================] - 4s 103ms/step - loss: 0.0016\n",
      "Epoch 94/100\n",
      "38/38 [==============================] - 4s 106ms/step - loss: 0.0014\n",
      "Epoch 95/100\n",
      "38/38 [==============================] - 4s 104ms/step - loss: 0.0015\n",
      "Epoch 96/100\n",
      "38/38 [==============================] - 4s 103ms/step - loss: 0.0015\n",
      "Epoch 97/100\n",
      "38/38 [==============================] - 4s 106ms/step - loss: 0.0016\n",
      "Epoch 98/100\n",
      "38/38 [==============================] - 4s 104ms/step - loss: 0.0015\n",
      "Epoch 99/100\n",
      "38/38 [==============================] - 4s 104ms/step - loss: 0.0017\n",
      "Epoch 100/100\n",
      "38/38 [==============================] - 4s 107ms/step - loss: 0.0014\n"
     ]
    },
    {
     "data": {
      "text/plain": [
       "<keras.callbacks.History at 0x2adb33e7e80>"
      ]
     },
     "execution_count": 66,
     "metadata": {},
     "output_type": "execute_result"
    }
   ],
   "source": [
    "regressor.fit(X_train,y_train,epochs=100,batch_size=32)"
   ]
  },
  {
   "cell_type": "markdown",
   "metadata": {},
   "source": [
    "### Making predictions and visualizing the results"
   ]
  },
  {
   "cell_type": "markdown",
   "metadata": {},
   "source": [
    "#### Getting the real stock price of 2017"
   ]
  },
  {
   "cell_type": "code",
   "execution_count": 67,
   "metadata": {},
   "outputs": [],
   "source": [
    "df_test = pd.read_csv('Google_Stock_Price_Test.csv')\n",
    "real_stock_price = df_test.iloc[:,1:2].values"
   ]
  },
  {
   "cell_type": "markdown",
   "metadata": {},
   "source": [
    "#### Getting the predicted stock price of 2017"
   ]
  },
  {
   "cell_type": "markdown",
   "metadata": {},
   "source": [
    "Our task here is to predict the stock prices in January 2017. Because of how we have trained the model, we will need the stock price info over the past 60 days to make this prediction"
   ]
  },
  {
   "cell_type": "markdown",
   "metadata": {},
   "source": [
    "One thing is to be noted. We cannotv alter the test data in any way. Hence we create this dataframe , obtain our desired inputs and then scale those values"
   ]
  },
  {
   "cell_type": "code",
   "execution_count": 68,
   "metadata": {},
   "outputs": [],
   "source": [
    "dataset_total = pd.concat((df_train['Open'],df_test['Open']),axis=0)"
   ]
  },
  {
   "cell_type": "markdown",
   "metadata": {},
   "source": [
    "len(dataset_total)-len(df_test)-60 : Subtracting the lengths will give us the first stock value from 2017 and '-60' is to obtain the stock prices over the past 60 days."
   ]
  },
  {
   "cell_type": "code",
   "execution_count": 70,
   "metadata": {},
   "outputs": [],
   "source": [
    "inputs = dataset_total[len(dataset_total)-len(df_test)-60:].values\n",
    "inputs = inputs.reshape(-1,1)\n",
    "inputs = scaler.transform(inputs)"
   ]
  },
  {
   "cell_type": "markdown",
   "metadata": {},
   "source": [
    "We use reshape to get the right numpy shape"
   ]
  },
  {
   "cell_type": "markdown",
   "metadata": {},
   "source": [
    "Create the datastructure which we previously had created for the training set"
   ]
  },
  {
   "cell_type": "code",
   "execution_count": 73,
   "metadata": {},
   "outputs": [],
   "source": [
    "X_test = []\n",
    "\n",
    "for i in range(60,80): #60+size_of_test(20)\n",
    "    X_test.append(inputs[i-60:i,0])\n",
    "\n",
    "#Converting these lists to numpy arrays\n",
    "X_test = np.array(X_test)"
   ]
  },
  {
   "cell_type": "code",
   "execution_count": 75,
   "metadata": {},
   "outputs": [],
   "source": [
    "X_test = np.reshape(X_test,(X_test.shape[0],X_test.shape[1],1))"
   ]
  },
  {
   "cell_type": "code",
   "execution_count": 77,
   "metadata": {},
   "outputs": [
    {
     "name": "stdout",
     "output_type": "stream",
     "text": [
      "1/1 [==============================] - 0s 90ms/step\n"
     ]
    }
   ],
   "source": [
    "predicted_Google_stock_price = regressor.predict(X_test)"
   ]
  },
  {
   "cell_type": "markdown",
   "metadata": {},
   "source": [
    "We obtain the scaled values as the output . hence, the scaling must be inversed."
   ]
  },
  {
   "cell_type": "code",
   "execution_count": 78,
   "metadata": {},
   "outputs": [],
   "source": [
    "predicted_Google_stock_price= scaler.inverse_transform(predicted_Google_stock_price)"
   ]
  },
  {
   "cell_type": "code",
   "execution_count": 79,
   "metadata": {},
   "outputs": [
    {
     "data": {
      "text/plain": [
       "array([[792.7472 ],\n",
       "       [789.61725],\n",
       "       [789.021  ],\n",
       "       [789.9616 ],\n",
       "       [792.9485 ],\n",
       "       [798.39935],\n",
       "       [803.6698 ],\n",
       "       [805.94965],\n",
       "       [805.94135],\n",
       "       [805.0666 ],\n",
       "       [804.3385 ],\n",
       "       [804.0001 ],\n",
       "       [804.0476 ],\n",
       "       [804.8476 ],\n",
       "       [806.08966],\n",
       "       [810.48157],\n",
       "       [817.3234 ],\n",
       "       [824.93024],\n",
       "       [829.4807 ],\n",
       "       [826.1771 ]], dtype=float32)"
      ]
     },
     "execution_count": 79,
     "metadata": {},
     "output_type": "execute_result"
    }
   ],
   "source": [
    "predicted_Google_stock_price"
   ]
  },
  {
   "cell_type": "markdown",
   "metadata": {},
   "source": [
    "### Visualizing the results"
   ]
  },
  {
   "cell_type": "code",
   "execution_count": 89,
   "metadata": {},
   "outputs": [
    {
     "data": {
      "image/png": "[encoded data removed]",
      "text/plain": [
       "<Figure size 432x288 with 1 Axes>"
      ]
     },
     "metadata": {
      "needs_background": "light"
     },
     "output_type": "display_data"
    }
   ],
   "source": [
    "plt.plot(real_stock_price,color='blue',label='Real Google Stock Price')\n",
    "plt.plot(predicted_Google_stock_price,color='red',label='Predicted Google Stock Price')\n",
    "plt.legend()\n",
    "plt.title('Google Stock Price Prediction')\n",
    "plt.xlabel('Time')\n",
    "plt.ylabel('Stock Price')\n",
    "plt.savefig('rnn_pred.png')"
   ]
  },
  {
   "cell_type": "markdown",
   "metadata": {},
   "source": [
    "Performance metrics"
   ]
  },
  {
   "cell_type": "code",
   "execution_count": 87,
   "metadata": {},
   "outputs": [],
   "source": [
    "import math\n",
    "from sklearn.metrics import mean_squared_error\n",
    "rmse = math.sqrt(mean_squared_error(real_stock_price, predicted_Google_stock_price))"
   ]
  },
  {
   "cell_type": "code",
   "execution_count": 88,
   "metadata": {},
   "outputs": [
    {
     "data": {
      "text/plain": [
       "11.73356917775519"
      ]
     },
     "execution_count": 88,
     "metadata": {},
     "output_type": "execute_result"
    }
   ],
   "source": [
    "rmse"
   ]
  },
  {
   "cell_type": "code",
   "execution_count": null,
   "metadata": {},
   "outputs": [],
   "source": []
  }
 ],
 "metadata": {
  "kernelspec": {
   "display_name": "Python 3.10.4 64-bit (windows store)",
   "language": "python",
   "name": "python3"
  },
  "language_info": {
   "codemirror_mode": {
    "name": "ipython",
    "version": 3
   },
   "file_extension": ".py",
   "mimetype": "text/x-python",
   "name": "python",
   "nbconvert_exporter": "python",
   "pygments_lexer": "ipython3",
   "version": "3.10.5"
  },
  "orig_nbformat": 4,
  "vscode": {
   "interpreter": {
    "hash": "854ad7b50770bedaf0cab730b1aaabb765566ea98036f134b639e260bede141e"
   }
  }
 },
 "nbformat": 4,
 "nbformat_minor": 2
}
