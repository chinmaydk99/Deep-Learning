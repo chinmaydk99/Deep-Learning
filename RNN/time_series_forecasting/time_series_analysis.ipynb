{
 "cells": [
  {
   "cell_type": "code",
   "execution_count": 1,
   "metadata": {},
   "outputs": [],
   "source": [
    "import pandas as pd\n",
    "import numpy as np\n",
    "import matplotlib.pyplot as plt\n",
    "import tensorflow as tf\n",
    "import keras"
   ]
  },
  {
   "cell_type": "code",
   "execution_count": 2,
   "metadata": {},
   "outputs": [],
   "source": [
    "#ran = list(range(0,90))\n",
    "#val = [np.sin(i) for i in ran]\n",
    "#plt.plot(ran,val)"
   ]
  },
  {
   "cell_type": "code",
   "execution_count": 3,
   "metadata": {},
   "outputs": [],
   "source": [
    "def generate_time_series(batch_size,n_steps):\n",
    "    freq1, freq2, offsets1 , offsets2 = np.random.rand(4, batch_size,1)\n",
    "    time = np.linspace(0,1,n_steps)\n",
    "    series = 0.5* np.sin((time-offsets1) * (freq1*10 + 10)) #wave1\n",
    "    series += 0.2* np.sin((time-offsets2) * (freq1*10 + 10)) #wave2\n",
    "    series += 0.5* np.sin((time-offsets1) * (freq1*10 + 10)) #noise\n",
    "    return series[...,np.newaxis].astype(np.float32) #ellipsis operator, used to select the entire series"
   ]
  },
  {
   "cell_type": "markdown",
   "metadata": {},
   "source": [
    "Creating a training, test and calidation set"
   ]
  },
  {
   "cell_type": "code",
   "execution_count": 4,
   "metadata": {},
   "outputs": [],
   "source": [
    "n_steps = 50\n",
    "series = generate_time_series(10000,n_steps+1)\n",
    "X_train, y_train = series[:7000,:n_steps],series[:7000,-1] \n",
    "X_valid , y_valid = series[7000:9000,:n_steps],series[7000:9000,-1]\n",
    "X_test, y_test = series[9000:,:n_steps], series[9000:,-1]"
   ]
  },
  {
   "cell_type": "markdown",
   "metadata": {},
   "source": [
    "We are considering the current output(y(t)) as the output feature while the past values are being used as inputs"
   ]
  },
  {
   "cell_type": "code",
   "execution_count": 5,
   "metadata": {},
   "outputs": [
    {
     "data": {
      "text/plain": [
       "(7000, 50, 1)"
      ]
     },
     "execution_count": 5,
     "metadata": {},
     "output_type": "execute_result"
    }
   ],
   "source": [
    "np.shape(X_train)"
   ]
  },
  {
   "cell_type": "markdown",
   "metadata": {},
   "source": [
    "### Baselining metrics"
   ]
  },
  {
   "cell_type": "markdown",
   "metadata": {},
   "source": [
    "Naive forecasting"
   ]
  },
  {
   "cell_type": "code",
   "execution_count": 6,
   "metadata": {},
   "outputs": [
    {
     "data": {
      "text/plain": [
       "0.050076712"
      ]
     },
     "execution_count": 6,
     "metadata": {},
     "output_type": "execute_result"
    }
   ],
   "source": [
    "y_pred = X_valid[:,-1]\n",
    "\n",
    "np.mean(keras.losses.mean_squared_error(y_valid,y_pred))"
   ]
  },
  {
   "cell_type": "markdown",
   "metadata": {},
   "source": [
    "Using fully connected network"
   ]
  },
  {
   "cell_type": "code",
   "execution_count": 7,
   "metadata": {},
   "outputs": [],
   "source": [
    "model = keras.models.Sequential([\n",
    "    keras.layers.Flatten(input_shape=[50,1]),\n",
    "    keras.layers.Dense(1)\n",
    "])"
   ]
  },
  {
   "cell_type": "markdown",
   "metadata": {},
   "source": [
    "We are using flatten because it expects a flat list of features for each input"
   ]
  },
  {
   "cell_type": "code",
   "execution_count": 8,
   "metadata": {},
   "outputs": [
    {
     "name": "stdout",
     "output_type": "stream",
     "text": [
      "Epoch 1/20\n",
      "219/219 [==============================] - 2s 3ms/step - loss: 0.1699\n",
      "Epoch 2/20\n",
      "219/219 [==============================] - 1s 3ms/step - loss: 0.0273\n",
      "Epoch 3/20\n",
      "219/219 [==============================] - 1s 3ms/step - loss: 0.0185\n",
      "Epoch 4/20\n",
      "219/219 [==============================] - 1s 3ms/step - loss: 0.0141\n",
      "Epoch 5/20\n",
      "219/219 [==============================] - 1s 3ms/step - loss: 0.0103\n",
      "Epoch 6/20\n",
      "219/219 [==============================] - 1s 3ms/step - loss: 0.0072\n",
      "Epoch 7/20\n",
      "219/219 [==============================] - 1s 3ms/step - loss: 0.0049\n",
      "Epoch 8/20\n",
      "219/219 [==============================] - 1s 3ms/step - loss: 0.0032\n",
      "Epoch 9/20\n",
      "219/219 [==============================] - 1s 3ms/step - loss: 0.0020\n",
      "Epoch 10/20\n",
      "219/219 [==============================] - 1s 3ms/step - loss: 0.0013\n",
      "Epoch 11/20\n",
      "219/219 [==============================] - 1s 3ms/step - loss: 8.7627e-04\n",
      "Epoch 12/20\n",
      "219/219 [==============================] - 1s 4ms/step - loss: 6.4154e-04\n",
      "Epoch 13/20\n",
      "219/219 [==============================] - 1s 3ms/step - loss: 5.3037e-04\n",
      "Epoch 14/20\n",
      "219/219 [==============================] - 1s 3ms/step - loss: 4.6314e-04\n",
      "Epoch 15/20\n",
      "219/219 [==============================] - 1s 3ms/step - loss: 4.3427e-04\n",
      "Epoch 16/20\n",
      "219/219 [==============================] - 1s 3ms/step - loss: 4.1937e-04\n",
      "Epoch 17/20\n",
      "219/219 [==============================] - 1s 3ms/step - loss: 4.0337e-04\n",
      "Epoch 18/20\n",
      "219/219 [==============================] - 1s 3ms/step - loss: 3.9148e-04\n",
      "Epoch 19/20\n",
      "219/219 [==============================] - 1s 3ms/step - loss: 3.7693e-04\n",
      "Epoch 20/20\n",
      "219/219 [==============================] - 1s 3ms/step - loss: 3.6459e-04\n"
     ]
    },
    {
     "data": {
      "text/plain": [
       "<keras.callbacks.History at 0x1b86d67ef80>"
      ]
     },
     "execution_count": 8,
     "metadata": {},
     "output_type": "execute_result"
    }
   ],
   "source": [
    "model.compile(optimizer='adam',loss='mean_squared_error')\n",
    "model.fit(X_train, y_train, batch_size=32, epochs=20)"
   ]
  },
  {
   "cell_type": "code",
   "execution_count": 9,
   "metadata": {},
   "outputs": [
    {
     "name": "stdout",
     "output_type": "stream",
     "text": [
      "63/63 [==============================] - 0s 3ms/step\n"
     ]
    },
    {
     "data": {
      "text/plain": [
       "0.00034228928"
      ]
     },
     "execution_count": 9,
     "metadata": {},
     "output_type": "execute_result"
    }
   ],
   "source": [
    "neural_pred = model.predict(X_valid)\n",
    "np.mean(keras.losses.mean_squared_error(y_valid,neural_pred))"
   ]
  },
  {
   "cell_type": "markdown",
   "metadata": {},
   "source": [
    "### Implementing a Simple RNN"
   ]
  },
  {
   "cell_type": "code",
   "execution_count": 10,
   "metadata": {},
   "outputs": [],
   "source": [
    "simpleRNN = keras.models.Sequential([\n",
    "    keras.layers.SimpleRNN(1, input_shape= [ None, 1])\n",
    "])"
   ]
  },
  {
   "cell_type": "markdown",
   "metadata": {},
   "source": [
    "We need not specify the length of the input Sequence since RNN can process any number of steps and hence the `None`"
   ]
  },
  {
   "cell_type": "code",
   "execution_count": 11,
   "metadata": {},
   "outputs": [
    {
     "name": "stdout",
     "output_type": "stream",
     "text": [
      "Epoch 1/20\n",
      "219/219 [==============================] - 6s 14ms/step - loss: 0.5120\n",
      "Epoch 2/20\n",
      "219/219 [==============================] - 3s 14ms/step - loss: 0.5102\n",
      "Epoch 3/20\n",
      "219/219 [==============================] - 4s 16ms/step - loss: 0.5117\n",
      "Epoch 4/20\n",
      "219/219 [==============================] - 3s 14ms/step - loss: 0.5107\n",
      "Epoch 5/20\n",
      "219/219 [==============================] - 3s 14ms/step - loss: 0.5096\n",
      "Epoch 6/20\n",
      "219/219 [==============================] - 3s 14ms/step - loss: 0.5107\n",
      "Epoch 7/20\n",
      "219/219 [==============================] - 3s 14ms/step - loss: 0.5090\n",
      "Epoch 8/20\n",
      "219/219 [==============================] - 3s 14ms/step - loss: 0.5105\n",
      "Epoch 9/20\n",
      "219/219 [==============================] - 3s 16ms/step - loss: 0.5096\n",
      "Epoch 10/20\n",
      "219/219 [==============================] - 3s 13ms/step - loss: 0.5098\n",
      "Epoch 11/20\n",
      "219/219 [==============================] - 3s 14ms/step - loss: 0.5086\n",
      "Epoch 12/20\n",
      "219/219 [==============================] - 3s 13ms/step - loss: 0.5104\n",
      "Epoch 13/20\n",
      "219/219 [==============================] - 3s 13ms/step - loss: 0.5101\n",
      "Epoch 14/20\n",
      "219/219 [==============================] - 3s 14ms/step - loss: 0.5093\n",
      "Epoch 15/20\n",
      "219/219 [==============================] - 4s 16ms/step - loss: 0.5093\n",
      "Epoch 16/20\n",
      "219/219 [==============================] - 3s 13ms/step - loss: 0.5096\n",
      "Epoch 17/20\n",
      "219/219 [==============================] - 3s 14ms/step - loss: 0.5101\n",
      "Epoch 18/20\n",
      "219/219 [==============================] - 3s 15ms/step - loss: 0.5101\n",
      "Epoch 19/20\n",
      "219/219 [==============================] - 3s 14ms/step - loss: 0.5097\n",
      "Epoch 20/20\n",
      "219/219 [==============================] - 3s 14ms/step - loss: 0.5104\n"
     ]
    },
    {
     "data": {
      "text/plain": [
       "<keras.callbacks.History at 0x1b86dd19240>"
      ]
     },
     "execution_count": 11,
     "metadata": {},
     "output_type": "execute_result"
    }
   ],
   "source": [
    "simpleRNN.compile(optimizer='adam',loss='mean_squared_error')\n",
    "simpleRNN.fit(X_train, y_train, batch_size=32, epochs=20)"
   ]
  },
  {
   "cell_type": "code",
   "execution_count": 12,
   "metadata": {},
   "outputs": [
    {
     "name": "stdout",
     "output_type": "stream",
     "text": [
      "63/63 [==============================] - 1s 5ms/step\n"
     ]
    },
    {
     "data": {
      "text/plain": [
       "0.49795648"
      ]
     },
     "execution_count": 12,
     "metadata": {},
     "output_type": "execute_result"
    }
   ],
   "source": [
    "simple_rnn_pred = simpleRNN.predict(X_valid)\n",
    "np.mean(keras.losses.mean_squared_error(y_valid,simple_rnn_pred))"
   ]
  },
  {
   "cell_type": "markdown",
   "metadata": {},
   "source": [
    "Implementing a deep RNN"
   ]
  },
  {
   "cell_type": "code",
   "execution_count": 13,
   "metadata": {},
   "outputs": [],
   "source": [
    "deepRNN = keras.models.Sequential([\n",
    "    keras.layers.SimpleRNN(20,return_sequences= True,input_shape=[None,1]),\n",
    "    keras.layers.SimpleRNN(20,return_sequences=True),\n",
    "    keras.layers.SimpleRNN(1)\n",
    "])"
   ]
  },
  {
   "cell_type": "code",
   "execution_count": 14,
   "metadata": {},
   "outputs": [],
   "source": [
    "deepRNN2 = keras.models.Sequential([\n",
    "    keras.layers.SimpleRNN(20,return_sequences= True,input_shape=[None,1]),\n",
    "    keras.layers.SimpleRNN(20),\n",
    "    keras.layers.Dense(1)\n",
    "])"
   ]
  },
  {
   "cell_type": "code",
   "execution_count": 16,
   "metadata": {},
   "outputs": [
    {
     "name": "stdout",
     "output_type": "stream",
     "text": [
      "Epoch 1/20\n",
      "219/219 [==============================] - 9s 31ms/step - loss: 0.0266\n",
      "Epoch 2/20\n",
      "219/219 [==============================] - 6s 26ms/step - loss: 0.0014\n",
      "Epoch 3/20\n",
      "219/219 [==============================] - 5s 24ms/step - loss: 6.1379e-04\n",
      "Epoch 4/20\n",
      "219/219 [==============================] - 5s 24ms/step - loss: 3.4790e-04\n",
      "Epoch 5/20\n",
      "219/219 [==============================] - 5s 23ms/step - loss: 2.2381e-04\n",
      "Epoch 6/20\n",
      "219/219 [==============================] - 5s 24ms/step - loss: 1.6255e-04\n",
      "Epoch 7/20\n",
      "219/219 [==============================] - 5s 24ms/step - loss: 1.4055e-04\n",
      "Epoch 8/20\n",
      "219/219 [==============================] - 5s 23ms/step - loss: 1.0014e-04\n",
      "Epoch 9/20\n",
      "219/219 [==============================] - 5s 24ms/step - loss: 8.5285e-05\n",
      "Epoch 10/20\n",
      "219/219 [==============================] - 5s 24ms/step - loss: 7.9172e-05\n",
      "Epoch 11/20\n",
      "219/219 [==============================] - 5s 23ms/step - loss: 6.9131e-05\n",
      "Epoch 12/20\n",
      "219/219 [==============================] - 6s 26ms/step - loss: 8.3296e-05\n",
      "Epoch 13/20\n",
      "219/219 [==============================] - 5s 24ms/step - loss: 4.4980e-05\n",
      "Epoch 14/20\n",
      "219/219 [==============================] - 5s 24ms/step - loss: 4.8704e-05\n",
      "Epoch 15/20\n",
      "219/219 [==============================] - 5s 24ms/step - loss: 4.7990e-05\n",
      "Epoch 16/20\n",
      "219/219 [==============================] - 5s 24ms/step - loss: 4.1590e-05\n",
      "Epoch 17/20\n",
      "219/219 [==============================] - 5s 25ms/step - loss: 3.9108e-05\n",
      "Epoch 18/20\n",
      "219/219 [==============================] - 5s 24ms/step - loss: 3.0299e-05\n",
      "Epoch 19/20\n",
      "219/219 [==============================] - 5s 24ms/step - loss: 3.3843e-05\n",
      "Epoch 20/20\n",
      "219/219 [==============================] - 5s 24ms/step - loss: 3.0765e-05\n"
     ]
    },
    {
     "data": {
      "text/plain": [
       "<keras.callbacks.History at 0x1b86f97e590>"
      ]
     },
     "execution_count": 16,
     "metadata": {},
     "output_type": "execute_result"
    }
   ],
   "source": [
    "deepRNN2.compile(optimizer='adam',loss='mean_squared_error')\n",
    "deepRNN2.fit(X_train, y_train, batch_size=32, epochs=20)"
   ]
  },
  {
   "cell_type": "code",
   "execution_count": 15,
   "metadata": {},
   "outputs": [
    {
     "name": "stdout",
     "output_type": "stream",
     "text": [
      "63/63 [==============================] - 1s 8ms/step\n"
     ]
    },
    {
     "data": {
      "text/plain": [
       "0.6733502"
      ]
     },
     "execution_count": 15,
     "metadata": {},
     "output_type": "execute_result"
    }
   ],
   "source": [
    "deep_rnn_pred = deepRNN2.predict(X_valid)\n",
    "np.mean(keras.losses.mean_squared_error(y_valid,deep_rnn_pred))"
   ]
  },
  {
   "cell_type": "markdown",
   "metadata": {},
   "source": [
    "Forecasting several time steps ahead"
   ]
  },
  {
   "cell_type": "markdown",
   "metadata": {},
   "source": []
  }
 ],
 "metadata": {
  "kernelspec": {
   "display_name": "Python 3.10.5 64-bit (windows store)",
   "language": "python",
   "name": "python3"
  },
  "language_info": {
   "codemirror_mode": {
    "name": "ipython",
    "version": 3
   },
   "file_extension": ".py",
   "mimetype": "text/x-python",
   "name": "python",
   "nbconvert_exporter": "python",
   "pygments_lexer": "ipython3",
   "version": "3.10.5"
  },
  "orig_nbformat": 4,
  "vscode": {
   "interpreter": {
    "hash": "854ad7b50770bedaf0cab730b1aaabb765566ea98036f134b639e260bede141e"
   }
  }
 },
 "nbformat": 4,
 "nbformat_minor": 2
}
